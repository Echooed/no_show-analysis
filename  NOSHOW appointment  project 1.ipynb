{
 "cells": [
  {
   "cell_type": "markdown",
   "id": "474a03d2",
   "metadata": {},
   "source": [
    "# *Project Name:  No-show appointments*\n",
    "\n",
    "## Table of Contents\n",
    "<ul>\n",
    "<li><a href=\"#intro\">Introduction</a></li>\n",
    "<li><a href=\"#dict\">Data Dictionary</a></li>\n",
    "<li><a href=\"#wrangling\">Data Wrangling</a></li>\n",
    "<li><a href=\"#eda\">Exploratory Data Analysis</a></li>\n",
    "<li><a href=\"#conclusions\">Conclusions</a></li>\n",
    "</ul>\n",
    "\n",
    "\n"
   ]
  },
  {
   "cell_type": "markdown",
   "id": "18d4a0a6",
   "metadata": {},
   "source": [
    "<a id='intro'></a>\n",
    "## **Introduction**\n",
    "> ___context___\n",
    "\n",
    "   This dataset contains information of over 100 thousand medical appointments collected in Brazil with questions aimed at whether patients do show up or not for their appointment.\n",
    "\n",
    "> ___content___\n",
    "\n",
    "110.527 medical appointments its 13 column variables. The most important one if the patient show-up or no-show to the appointment.\n",
    "\n",
    "\n",
    "  > ___Case Question___\n",
    "  \n",
    "What factors are important for us to know in order to predict if a patient will show up for their scheduled appointment?\n",
    " \n",
    " \n",
    " \n",
    " \n",
    " \n",
    " \n",
    " \n",
    "<a id='dict'></a>\n",
    "### **Data Dictionary**\n",
    "\n",
    "**PatientID** : Patient's identification Number\n",
    "\n",
    "**AppointmentID**: Appointment's Identification number\n",
    "\n",
    "**Gender**: Patient Sex (Male or Female) represented in M and F respectively\n",
    "\n",
    "**ScheduledDay**: The day the patient set up appointment\n",
    "\n",
    "**AppointmentDay**:The day of the appointment, when they will visit the doctor\n",
    "\n",
    "**Age**: How old is the patience\n",
    "\n",
    "**NeighbourHood**: Location where the appointment was made\n",
    "\n",
    "**Scholarship**: Booleen, True or False; whether or not the patient is enrolled in Brasilian welfare \n",
    "program\n",
    "\n",
    "**Hipertension**: True or False if the patient is hypertensive\n",
    "\n",
    "**Diabetes**: True or False if patient is Diabetic\n",
    "\n",
    "**Alcoholism**: True or False if patient is Alcoholic\n",
    "\n",
    "**Handcap**: True or False if patient is Handicapped \n",
    "\n",
    "**SMS_received**: True or False if patient received atleast one SMS or not\n",
    "\n",
    "**No-show**: True or False if no show for patient appointment. 1 if No show and 0 if patience show up.\n",
    "\n",
    "......   *note 0 and 1 represent false and true respectively on the table*\n",
    "\n",
    "\n",
    "\n",
    "\n"
   ]
  },
  {
   "cell_type": "code",
   "execution_count": 1,
   "id": "1f8e6ece",
   "metadata": {},
   "outputs": [],
   "source": [
    "## importing libraries\n",
    "%matplotlib inline\n",
    "%config inlineBackend.figure_format = 'retina'  ## to render higher image resolution\n",
    "\n",
    "import matplotlib.pyplot as plt\n",
    "import matplotlib as mpl\n",
    "import numpy as np\n",
    "import pandas as pd\n",
    "import seaborn as sns\n",
    "\n",
    "%matplotlib inline\n",
    "%config inlineBackend.figure_format = 'retina'  ## to render higher image resolution\n"
   ]
  },
  {
   "cell_type": "markdown",
   "id": "e8bb2470",
   "metadata": {},
   "source": [
    "<a id='wrangling'></a>\n",
    "## Data Wrangling\n",
    "in this session I will do a basic investigate of the data and get myself family with the parameters, load the data, get the data ready for cleansing and make sure the data is ready for analysis."
   ]
  },
  {
   "cell_type": "code",
   "execution_count": 2,
   "id": "382c3110",
   "metadata": {},
   "outputs": [
    {
     "data": {
      "text/html": [
       "<div>\n",
       "<style scoped>\n",
       "    .dataframe tbody tr th:only-of-type {\n",
       "        vertical-align: middle;\n",
       "    }\n",
       "\n",
       "    .dataframe tbody tr th {\n",
       "        vertical-align: top;\n",
       "    }\n",
       "\n",
       "    .dataframe thead th {\n",
       "        text-align: right;\n",
       "    }\n",
       "</style>\n",
       "<table border=\"1\" class=\"dataframe\">\n",
       "  <thead>\n",
       "    <tr style=\"text-align: right;\">\n",
       "      <th></th>\n",
       "      <th>PatientId</th>\n",
       "      <th>AppointmentID</th>\n",
       "      <th>Gender</th>\n",
       "      <th>ScheduledDay</th>\n",
       "      <th>AppointmentDay</th>\n",
       "      <th>Age</th>\n",
       "      <th>Neighbourhood</th>\n",
       "      <th>Scholarship</th>\n",
       "      <th>Hipertension</th>\n",
       "      <th>Diabetes</th>\n",
       "      <th>Alcoholism</th>\n",
       "      <th>Handcap</th>\n",
       "      <th>SMS_received</th>\n",
       "      <th>No-show</th>\n",
       "    </tr>\n",
       "  </thead>\n",
       "  <tbody>\n",
       "    <tr>\n",
       "      <th>0</th>\n",
       "      <td>2.987250e+13</td>\n",
       "      <td>5642903</td>\n",
       "      <td>F</td>\n",
       "      <td>2016-04-29T18:38:08Z</td>\n",
       "      <td>2016-04-29T00:00:00Z</td>\n",
       "      <td>62</td>\n",
       "      <td>JARDIM DA PENHA</td>\n",
       "      <td>0</td>\n",
       "      <td>1</td>\n",
       "      <td>0</td>\n",
       "      <td>0</td>\n",
       "      <td>0</td>\n",
       "      <td>0</td>\n",
       "      <td>No</td>\n",
       "    </tr>\n",
       "    <tr>\n",
       "      <th>1</th>\n",
       "      <td>5.589978e+14</td>\n",
       "      <td>5642503</td>\n",
       "      <td>M</td>\n",
       "      <td>2016-04-29T16:08:27Z</td>\n",
       "      <td>2016-04-29T00:00:00Z</td>\n",
       "      <td>56</td>\n",
       "      <td>JARDIM DA PENHA</td>\n",
       "      <td>0</td>\n",
       "      <td>0</td>\n",
       "      <td>0</td>\n",
       "      <td>0</td>\n",
       "      <td>0</td>\n",
       "      <td>0</td>\n",
       "      <td>No</td>\n",
       "    </tr>\n",
       "    <tr>\n",
       "      <th>2</th>\n",
       "      <td>4.262962e+12</td>\n",
       "      <td>5642549</td>\n",
       "      <td>F</td>\n",
       "      <td>2016-04-29T16:19:04Z</td>\n",
       "      <td>2016-04-29T00:00:00Z</td>\n",
       "      <td>62</td>\n",
       "      <td>MATA DA PRAIA</td>\n",
       "      <td>0</td>\n",
       "      <td>0</td>\n",
       "      <td>0</td>\n",
       "      <td>0</td>\n",
       "      <td>0</td>\n",
       "      <td>0</td>\n",
       "      <td>No</td>\n",
       "    </tr>\n",
       "    <tr>\n",
       "      <th>3</th>\n",
       "      <td>8.679512e+11</td>\n",
       "      <td>5642828</td>\n",
       "      <td>F</td>\n",
       "      <td>2016-04-29T17:29:31Z</td>\n",
       "      <td>2016-04-29T00:00:00Z</td>\n",
       "      <td>8</td>\n",
       "      <td>PONTAL DE CAMBURI</td>\n",
       "      <td>0</td>\n",
       "      <td>0</td>\n",
       "      <td>0</td>\n",
       "      <td>0</td>\n",
       "      <td>0</td>\n",
       "      <td>0</td>\n",
       "      <td>No</td>\n",
       "    </tr>\n",
       "    <tr>\n",
       "      <th>4</th>\n",
       "      <td>8.841186e+12</td>\n",
       "      <td>5642494</td>\n",
       "      <td>F</td>\n",
       "      <td>2016-04-29T16:07:23Z</td>\n",
       "      <td>2016-04-29T00:00:00Z</td>\n",
       "      <td>56</td>\n",
       "      <td>JARDIM DA PENHA</td>\n",
       "      <td>0</td>\n",
       "      <td>1</td>\n",
       "      <td>1</td>\n",
       "      <td>0</td>\n",
       "      <td>0</td>\n",
       "      <td>0</td>\n",
       "      <td>No</td>\n",
       "    </tr>\n",
       "  </tbody>\n",
       "</table>\n",
       "</div>"
      ],
      "text/plain": [
       "      PatientId  AppointmentID Gender          ScheduledDay  \\\n",
       "0  2.987250e+13        5642903      F  2016-04-29T18:38:08Z   \n",
       "1  5.589978e+14        5642503      M  2016-04-29T16:08:27Z   \n",
       "2  4.262962e+12        5642549      F  2016-04-29T16:19:04Z   \n",
       "3  8.679512e+11        5642828      F  2016-04-29T17:29:31Z   \n",
       "4  8.841186e+12        5642494      F  2016-04-29T16:07:23Z   \n",
       "\n",
       "         AppointmentDay  Age      Neighbourhood  Scholarship  Hipertension  \\\n",
       "0  2016-04-29T00:00:00Z   62    JARDIM DA PENHA            0             1   \n",
       "1  2016-04-29T00:00:00Z   56    JARDIM DA PENHA            0             0   \n",
       "2  2016-04-29T00:00:00Z   62      MATA DA PRAIA            0             0   \n",
       "3  2016-04-29T00:00:00Z    8  PONTAL DE CAMBURI            0             0   \n",
       "4  2016-04-29T00:00:00Z   56    JARDIM DA PENHA            0             1   \n",
       "\n",
       "   Diabetes  Alcoholism  Handcap  SMS_received No-show  \n",
       "0         0           0        0             0      No  \n",
       "1         0           0        0             0      No  \n",
       "2         0           0        0             0      No  \n",
       "3         0           0        0             0      No  \n",
       "4         1           0        0             0      No  "
      ]
     },
     "execution_count": 2,
     "metadata": {},
     "output_type": "execute_result"
    }
   ],
   "source": [
    "## loading the dataset using pandas and checking out the table.\n",
    "df_noshow = pd.read_csv ('noshowappointments-kagglev2-may-2016.csv')\n",
    "df_noshow.head()\n"
   ]
  },
  {
   "cell_type": "code",
   "execution_count": 3,
   "id": "5a22b060",
   "metadata": {},
   "outputs": [
    {
     "name": "stdout",
     "output_type": "stream",
     "text": [
      "<class 'pandas.core.frame.DataFrame'>\n",
      "RangeIndex: 110527 entries, 0 to 110526\n",
      "Data columns (total 14 columns):\n",
      " #   Column          Non-Null Count   Dtype  \n",
      "---  ------          --------------   -----  \n",
      " 0   PatientId       110527 non-null  float64\n",
      " 1   AppointmentID   110527 non-null  int64  \n",
      " 2   Gender          110527 non-null  object \n",
      " 3   ScheduledDay    110527 non-null  object \n",
      " 4   AppointmentDay  110527 non-null  object \n",
      " 5   Age             110527 non-null  int64  \n",
      " 6   Neighbourhood   110527 non-null  object \n",
      " 7   Scholarship     110527 non-null  int64  \n",
      " 8   Hipertension    110527 non-null  int64  \n",
      " 9   Diabetes        110527 non-null  int64  \n",
      " 10  Alcoholism      110527 non-null  int64  \n",
      " 11  Handcap         110527 non-null  int64  \n",
      " 12  SMS_received    110527 non-null  int64  \n",
      " 13  No-show         110527 non-null  object \n",
      "dtypes: float64(1), int64(8), object(5)\n",
      "memory usage: 11.8+ MB\n"
     ]
    }
   ],
   "source": [
    "## Here I am checking for the properties of the data variable\n",
    "df_noshow.info()"
   ]
  },
  {
   "cell_type": "code",
   "execution_count": 4,
   "id": "ae46bbc2",
   "metadata": {},
   "outputs": [
    {
     "data": {
      "text/plain": [
       "False"
      ]
     },
     "execution_count": 4,
     "metadata": {},
     "output_type": "execute_result"
    }
   ],
   "source": [
    "## checking for possible duplicate\n",
    "\n",
    "df_noshow.duplicated().any() ## no duplicates "
   ]
  },
  {
   "cell_type": "code",
   "execution_count": 5,
   "id": "9b28f608",
   "metadata": {},
   "outputs": [
    {
     "data": {
      "text/html": [
       "<div>\n",
       "<style scoped>\n",
       "    .dataframe tbody tr th:only-of-type {\n",
       "        vertical-align: middle;\n",
       "    }\n",
       "\n",
       "    .dataframe tbody tr th {\n",
       "        vertical-align: top;\n",
       "    }\n",
       "\n",
       "    .dataframe thead th {\n",
       "        text-align: right;\n",
       "    }\n",
       "</style>\n",
       "<table border=\"1\" class=\"dataframe\">\n",
       "  <thead>\n",
       "    <tr style=\"text-align: right;\">\n",
       "      <th></th>\n",
       "      <th>PatientId</th>\n",
       "      <th>AppointmentID</th>\n",
       "      <th>Age</th>\n",
       "      <th>Scholarship</th>\n",
       "      <th>Hipertension</th>\n",
       "      <th>Diabetes</th>\n",
       "      <th>Alcoholism</th>\n",
       "      <th>Handcap</th>\n",
       "      <th>SMS_received</th>\n",
       "    </tr>\n",
       "  </thead>\n",
       "  <tbody>\n",
       "    <tr>\n",
       "      <th>count</th>\n",
       "      <td>1.105270e+05</td>\n",
       "      <td>1.105270e+05</td>\n",
       "      <td>110527.000000</td>\n",
       "      <td>110527.000000</td>\n",
       "      <td>110527.000000</td>\n",
       "      <td>110527.000000</td>\n",
       "      <td>110527.000000</td>\n",
       "      <td>110527.000000</td>\n",
       "      <td>110527.000000</td>\n",
       "    </tr>\n",
       "    <tr>\n",
       "      <th>mean</th>\n",
       "      <td>1.474963e+14</td>\n",
       "      <td>5.675305e+06</td>\n",
       "      <td>37.088874</td>\n",
       "      <td>0.098266</td>\n",
       "      <td>0.197246</td>\n",
       "      <td>0.071865</td>\n",
       "      <td>0.030400</td>\n",
       "      <td>0.022248</td>\n",
       "      <td>0.321026</td>\n",
       "    </tr>\n",
       "    <tr>\n",
       "      <th>std</th>\n",
       "      <td>2.560949e+14</td>\n",
       "      <td>7.129575e+04</td>\n",
       "      <td>23.110205</td>\n",
       "      <td>0.297675</td>\n",
       "      <td>0.397921</td>\n",
       "      <td>0.258265</td>\n",
       "      <td>0.171686</td>\n",
       "      <td>0.161543</td>\n",
       "      <td>0.466873</td>\n",
       "    </tr>\n",
       "    <tr>\n",
       "      <th>min</th>\n",
       "      <td>3.921784e+04</td>\n",
       "      <td>5.030230e+06</td>\n",
       "      <td>-1.000000</td>\n",
       "      <td>0.000000</td>\n",
       "      <td>0.000000</td>\n",
       "      <td>0.000000</td>\n",
       "      <td>0.000000</td>\n",
       "      <td>0.000000</td>\n",
       "      <td>0.000000</td>\n",
       "    </tr>\n",
       "    <tr>\n",
       "      <th>25%</th>\n",
       "      <td>4.172614e+12</td>\n",
       "      <td>5.640286e+06</td>\n",
       "      <td>18.000000</td>\n",
       "      <td>0.000000</td>\n",
       "      <td>0.000000</td>\n",
       "      <td>0.000000</td>\n",
       "      <td>0.000000</td>\n",
       "      <td>0.000000</td>\n",
       "      <td>0.000000</td>\n",
       "    </tr>\n",
       "    <tr>\n",
       "      <th>50%</th>\n",
       "      <td>3.173184e+13</td>\n",
       "      <td>5.680573e+06</td>\n",
       "      <td>37.000000</td>\n",
       "      <td>0.000000</td>\n",
       "      <td>0.000000</td>\n",
       "      <td>0.000000</td>\n",
       "      <td>0.000000</td>\n",
       "      <td>0.000000</td>\n",
       "      <td>0.000000</td>\n",
       "    </tr>\n",
       "    <tr>\n",
       "      <th>75%</th>\n",
       "      <td>9.439172e+13</td>\n",
       "      <td>5.725524e+06</td>\n",
       "      <td>55.000000</td>\n",
       "      <td>0.000000</td>\n",
       "      <td>0.000000</td>\n",
       "      <td>0.000000</td>\n",
       "      <td>0.000000</td>\n",
       "      <td>0.000000</td>\n",
       "      <td>1.000000</td>\n",
       "    </tr>\n",
       "    <tr>\n",
       "      <th>max</th>\n",
       "      <td>9.999816e+14</td>\n",
       "      <td>5.790484e+06</td>\n",
       "      <td>115.000000</td>\n",
       "      <td>1.000000</td>\n",
       "      <td>1.000000</td>\n",
       "      <td>1.000000</td>\n",
       "      <td>1.000000</td>\n",
       "      <td>4.000000</td>\n",
       "      <td>1.000000</td>\n",
       "    </tr>\n",
       "  </tbody>\n",
       "</table>\n",
       "</div>"
      ],
      "text/plain": [
       "          PatientId  AppointmentID            Age    Scholarship  \\\n",
       "count  1.105270e+05   1.105270e+05  110527.000000  110527.000000   \n",
       "mean   1.474963e+14   5.675305e+06      37.088874       0.098266   \n",
       "std    2.560949e+14   7.129575e+04      23.110205       0.297675   \n",
       "min    3.921784e+04   5.030230e+06      -1.000000       0.000000   \n",
       "25%    4.172614e+12   5.640286e+06      18.000000       0.000000   \n",
       "50%    3.173184e+13   5.680573e+06      37.000000       0.000000   \n",
       "75%    9.439172e+13   5.725524e+06      55.000000       0.000000   \n",
       "max    9.999816e+14   5.790484e+06     115.000000       1.000000   \n",
       "\n",
       "        Hipertension       Diabetes     Alcoholism        Handcap  \\\n",
       "count  110527.000000  110527.000000  110527.000000  110527.000000   \n",
       "mean        0.197246       0.071865       0.030400       0.022248   \n",
       "std         0.397921       0.258265       0.171686       0.161543   \n",
       "min         0.000000       0.000000       0.000000       0.000000   \n",
       "25%         0.000000       0.000000       0.000000       0.000000   \n",
       "50%         0.000000       0.000000       0.000000       0.000000   \n",
       "75%         0.000000       0.000000       0.000000       0.000000   \n",
       "max         1.000000       1.000000       1.000000       4.000000   \n",
       "\n",
       "        SMS_received  \n",
       "count  110527.000000  \n",
       "mean        0.321026  \n",
       "std         0.466873  \n",
       "min         0.000000  \n",
       "25%         0.000000  \n",
       "50%         0.000000  \n",
       "75%         1.000000  \n",
       "max         1.000000  "
      ]
     },
     "execution_count": 5,
     "metadata": {},
     "output_type": "execute_result"
    }
   ],
   "source": [
    "## perform basic statistic on the dataset to allow me explore the data summary\n",
    "df_noshow.describe()"
   ]
  },
  {
   "cell_type": "code",
   "execution_count": 6,
   "id": "116e5960",
   "metadata": {},
   "outputs": [
    {
     "data": {
      "text/plain": [
       "PatientId          62299\n",
       "AppointmentID     110527\n",
       "Gender                 2\n",
       "ScheduledDay      103549\n",
       "AppointmentDay        27\n",
       "Age                  104\n",
       "Neighbourhood         81\n",
       "Scholarship            2\n",
       "Hipertension           2\n",
       "Diabetes               2\n",
       "Alcoholism             2\n",
       "Handcap                5\n",
       "SMS_received           2\n",
       "No-show                2\n",
       "dtype: int64"
      ]
     },
     "execution_count": 6,
     "metadata": {},
     "output_type": "execute_result"
    }
   ],
   "source": [
    "## displaying the unique values of each column\n",
    "df_noshow.nunique()"
   ]
  },
  {
   "cell_type": "code",
   "execution_count": 7,
   "id": "8084b3f9",
   "metadata": {},
   "outputs": [
    {
     "data": {
      "text/plain": [
       "0    108286\n",
       "1      2042\n",
       "2       183\n",
       "3        13\n",
       "4         3\n",
       "Name: Handcap, dtype: int64"
      ]
     },
     "execution_count": 7,
     "metadata": {},
     "output_type": "execute_result"
    }
   ],
   "source": [
    "## exploring handcap column further\n",
    "df_noshow['Handcap'].value_counts() ## handcap has a 5 unique values"
   ]
  },
  {
   "cell_type": "code",
   "execution_count": 8,
   "id": "c72c8136",
   "metadata": {},
   "outputs": [
    {
     "data": {
      "text/plain": [
       "count    110527.000000\n",
       "mean         37.088874\n",
       "std          23.110205\n",
       "min          -1.000000\n",
       "25%          18.000000\n",
       "50%          37.000000\n",
       "75%          55.000000\n",
       "max         115.000000\n",
       "Name: Age, dtype: float64"
      ]
     },
     "execution_count": 8,
     "metadata": {},
     "output_type": "execute_result"
    }
   ],
   "source": [
    "## exploring age column further\n",
    "df_noshow['Age'].describe()  ## Age shouldn't have a negative value"
   ]
  },
  {
   "cell_type": "markdown",
   "id": "3a61bdae",
   "metadata": {},
   "source": [
    "### information inferred from wrangling\n",
    "_1) The data contains 110527 rows and 14 columns including the 'Row count' column._\n",
    "\n",
    "_2) Dataset contains no null value._\n",
    "\n",
    "_3) appointmentday and Scheduleday should be in date format._\n",
    "\n",
    "_4) Data contains no duplicate value._\n",
    "\n",
    "_5) Age column have inconsistent variable as its min value is negative._\n",
    "\n",
    "_6) Some columns names are misspelt: handcap should be handicap and Hipertension should be hypertension._\n",
    "\n",
    "_7) handcap has more than 2 unique values and it should be a booleen.( other column with values other than 0 and 1 will dropped)_ \n",
    "\n",
    "_8) SMS_received should be casted to booleen data type as it has just two variables(0,1)._\n",
    "\n",
    "_9) appointmentID has all row value to be unique so it can be used reference key(Primary)._\n",
    "\n"
   ]
  },
  {
   "cell_type": "markdown",
   "id": "d4c991b8",
   "metadata": {},
   "source": [
    "## Data cleansing\n",
    "\n",
    "\n",
    "\n",
    "I will be repairing the dataset as some inconsistencies have been revealed during the wrangling process. I will optimize dtype, remove useless columns that won't help our analysis and prepare the data for optimum analysis.\n",
    "\n",
    "\n",
    "\n",
    "\n",
    "\n",
    "\n"
   ]
  },
  {
   "cell_type": "markdown",
   "id": "3e91c96a",
   "metadata": {},
   "source": [
    "### Columns\n",
    "-_Rename misspelt column_\n",
    "\n",
    "-_Make all column names lowercase to be consistent_\n",
    "\n",
    "-_Replace appointmentday and scheduledday to date_\n"
   ]
  },
  {
   "cell_type": "code",
   "execution_count": 9,
   "id": "21ebb663",
   "metadata": {},
   "outputs": [
    {
     "data": {
      "text/plain": [
       "Index(['patientid', 'appointmentid', 'gender', 'scheduledday',\n",
       "       'appointmentday', 'age', 'neighbourhood', 'scholarship', 'hipertension',\n",
       "       'diabetes', 'alcoholism', 'handcap', 'sms_received', 'no-show'],\n",
       "      dtype='object')"
      ]
     },
     "execution_count": 9,
     "metadata": {},
     "output_type": "execute_result"
    }
   ],
   "source": [
    "# all column should fixed to lowercase for consistency\n",
    "df_noshow.rename(columns=lambda x: x.lower(), inplace=True)\n",
    "df_noshow.columns"
   ]
  },
  {
   "cell_type": "code",
   "execution_count": 10,
   "id": "27464169",
   "metadata": {},
   "outputs": [
    {
     "data": {
      "text/plain": [
       "Index(['patientid', 'appointmentid', 'gender', 'scheduleddate',\n",
       "       'appointmentdate', 'age', 'neighbourhood', 'scholarship',\n",
       "       'hypertension', 'diabetes', 'alcoholism', 'handicap', 'sms_received',\n",
       "       'no_show'],\n",
       "      dtype='object')"
      ]
     },
     "execution_count": 10,
     "metadata": {},
     "output_type": "execute_result"
    }
   ],
   "source": [
    "## correcting the misspelt column and renaming scheduledday and appointmentday to 'date'\n",
    "df_noshow.rename(columns={'handcap': 'handicap', 'hipertension':'hypertension','scheduledday':'scheduleddate', 'appointmentday':'appointmentdate','no-show' : 'no_show'},inplace=True)\n",
    "df_noshow.columns"
   ]
  },
  {
   "cell_type": "markdown",
   "id": "7ca843d6",
   "metadata": {},
   "source": [
    "### Data Types\n",
    "Convert scheduledate and appoinmentdate data type to datetime data\n",
    "\n",
    "Convert any column that contains 1s and 0 data to boolean data\n",
    "\n",
    "Convert No-show data to boolean data"
   ]
  },
  {
   "cell_type": "code",
   "execution_count": 11,
   "id": "89fe8a32",
   "metadata": {},
   "outputs": [],
   "source": [
    "## convert appointmentdate from string format to time format\n",
    "df_noshow['appointmentdate'] = pd.to_datetime(df_noshow['appointmentdate'])"
   ]
  },
  {
   "cell_type": "code",
   "execution_count": 12,
   "id": "1da2bf37",
   "metadata": {},
   "outputs": [],
   "source": [
    "#convert scheduledday from string format to time format\n",
    "df_noshow['scheduleddate'] = pd.to_datetime(df_noshow['scheduleddate'])"
   ]
  },
  {
   "cell_type": "code",
   "execution_count": 13,
   "id": "f234939f",
   "metadata": {},
   "outputs": [
    {
     "name": "stdout",
     "output_type": "stream",
     "text": [
      "<class 'pandas.core.frame.DataFrame'>\n",
      "RangeIndex: 110527 entries, 0 to 110526\n",
      "Data columns (total 14 columns):\n",
      " #   Column           Non-Null Count   Dtype              \n",
      "---  ------           --------------   -----              \n",
      " 0   patientid        110527 non-null  float64            \n",
      " 1   appointmentid    110527 non-null  int64              \n",
      " 2   gender           110527 non-null  object             \n",
      " 3   scheduleddate    110527 non-null  datetime64[ns, UTC]\n",
      " 4   appointmentdate  110527 non-null  datetime64[ns, UTC]\n",
      " 5   age              110527 non-null  int64              \n",
      " 6   neighbourhood    110527 non-null  object             \n",
      " 7   scholarship      110527 non-null  int64              \n",
      " 8   hypertension     110527 non-null  int64              \n",
      " 9   diabetes         110527 non-null  int64              \n",
      " 10  alcoholism       110527 non-null  int64              \n",
      " 11  handicap         110527 non-null  int64              \n",
      " 12  sms_received     110527 non-null  int64              \n",
      " 13  no_show          110527 non-null  object             \n",
      "dtypes: datetime64[ns, UTC](2), float64(1), int64(8), object(3)\n",
      "memory usage: 11.8+ MB\n"
     ]
    }
   ],
   "source": [
    "df_noshow.info() ## datetime implemented"
   ]
  },
  {
   "cell_type": "code",
   "execution_count": 14,
   "id": "747a07b3",
   "metadata": {},
   "outputs": [
    {
     "data": {
      "text/plain": [
       "scholarship     bool\n",
       "hypertension    bool\n",
       "diabetes        bool\n",
       "alcoholism      bool\n",
       "handicap        bool\n",
       "sms_received    bool\n",
       "dtype: object"
      ]
     },
     "execution_count": 14,
     "metadata": {},
     "output_type": "execute_result"
    }
   ],
   "source": [
    "## converting the columns with 0s and 1s to a bool (0 = False and 1 = True)\n",
    "df_noshow[['scholarship', 'hypertension', 'diabetes', 'alcoholism', 'handicap', 'sms_received']] = df_noshow[['scholarship', 'hypertension', 'diabetes',\n",
    "                                                                                               'alcoholism', 'handicap', 'sms_received']].astype(bool)\n",
    "df_noshow.columns\n",
    "df_noshow[['scholarship', 'hypertension', 'diabetes', 'alcoholism', 'handicap', 'sms_received']].dtypes"
   ]
  },
  {
   "cell_type": "code",
   "execution_count": null,
   "id": "ca3edde4",
   "metadata": {},
   "outputs": [],
   "source": []
  },
  {
   "cell_type": "markdown",
   "id": "e4288c69",
   "metadata": {},
   "source": [
    "### Data\n",
    "Remove column that won't be needed in the analysis.\n",
    "\n",
    "Remove any row with a negative age.\n",
    "\n",
    "Replace any value larger than 1 in Handcap column with True. \n",
    "\n",
    "Remove time information in scheduled date and appointment date because it is missing from appointment date column.\n",
    "\n"
   ]
  },
  {
   "cell_type": "code",
   "execution_count": 15,
   "id": "26d9f533",
   "metadata": {},
   "outputs": [
    {
     "data": {
      "text/plain": [
       "count    106987.000000\n",
       "mean         38.316085\n",
       "std          22.466214\n",
       "min           1.000000\n",
       "25%          19.000000\n",
       "50%          38.000000\n",
       "75%          56.000000\n",
       "max         115.000000\n",
       "Name: age, dtype: float64"
      ]
     },
     "execution_count": 15,
     "metadata": {},
     "output_type": "execute_result"
    }
   ],
   "source": [
    "## remove rows with -ve values in age column\n",
    "index = df_noshow.query('age <= 0').index\n",
    "df_noshow.drop(index, inplace=True)\n",
    "df_noshow['age'].describe()"
   ]
  },
  {
   "cell_type": "code",
   "execution_count": 16,
   "id": "9fc0e576",
   "metadata": {},
   "outputs": [],
   "source": [
    "## dropping both patientID and AppointmentId because it won't be useful in my analysis\n",
    "df_noshow.drop(['patientid', 'appointmentid'], axis = 1, inplace = True)"
   ]
  },
  {
   "cell_type": "code",
   "execution_count": 17,
   "id": "b6369464",
   "metadata": {},
   "outputs": [
    {
     "data": {
      "text/html": [
       "<div>\n",
       "<style scoped>\n",
       "    .dataframe tbody tr th:only-of-type {\n",
       "        vertical-align: middle;\n",
       "    }\n",
       "\n",
       "    .dataframe tbody tr th {\n",
       "        vertical-align: top;\n",
       "    }\n",
       "\n",
       "    .dataframe thead th {\n",
       "        text-align: right;\n",
       "    }\n",
       "</style>\n",
       "<table border=\"1\" class=\"dataframe\">\n",
       "  <thead>\n",
       "    <tr style=\"text-align: right;\">\n",
       "      <th></th>\n",
       "      <th>gender</th>\n",
       "      <th>scheduleddate</th>\n",
       "      <th>appointmentdate</th>\n",
       "      <th>age</th>\n",
       "      <th>neighbourhood</th>\n",
       "      <th>scholarship</th>\n",
       "      <th>hypertension</th>\n",
       "      <th>diabetes</th>\n",
       "      <th>alcoholism</th>\n",
       "      <th>handicap</th>\n",
       "      <th>sms_received</th>\n",
       "      <th>no_show</th>\n",
       "    </tr>\n",
       "  </thead>\n",
       "  <tbody>\n",
       "    <tr>\n",
       "      <th>0</th>\n",
       "      <td>F</td>\n",
       "      <td>2016-04-29 18:38:08+00:00</td>\n",
       "      <td>2016-04-29 00:00:00+00:00</td>\n",
       "      <td>62</td>\n",
       "      <td>JARDIM DA PENHA</td>\n",
       "      <td>False</td>\n",
       "      <td>True</td>\n",
       "      <td>False</td>\n",
       "      <td>False</td>\n",
       "      <td>False</td>\n",
       "      <td>False</td>\n",
       "      <td>No</td>\n",
       "    </tr>\n",
       "    <tr>\n",
       "      <th>1</th>\n",
       "      <td>M</td>\n",
       "      <td>2016-04-29 16:08:27+00:00</td>\n",
       "      <td>2016-04-29 00:00:00+00:00</td>\n",
       "      <td>56</td>\n",
       "      <td>JARDIM DA PENHA</td>\n",
       "      <td>False</td>\n",
       "      <td>False</td>\n",
       "      <td>False</td>\n",
       "      <td>False</td>\n",
       "      <td>False</td>\n",
       "      <td>False</td>\n",
       "      <td>No</td>\n",
       "    </tr>\n",
       "    <tr>\n",
       "      <th>2</th>\n",
       "      <td>F</td>\n",
       "      <td>2016-04-29 16:19:04+00:00</td>\n",
       "      <td>2016-04-29 00:00:00+00:00</td>\n",
       "      <td>62</td>\n",
       "      <td>MATA DA PRAIA</td>\n",
       "      <td>False</td>\n",
       "      <td>False</td>\n",
       "      <td>False</td>\n",
       "      <td>False</td>\n",
       "      <td>False</td>\n",
       "      <td>False</td>\n",
       "      <td>No</td>\n",
       "    </tr>\n",
       "    <tr>\n",
       "      <th>3</th>\n",
       "      <td>F</td>\n",
       "      <td>2016-04-29 17:29:31+00:00</td>\n",
       "      <td>2016-04-29 00:00:00+00:00</td>\n",
       "      <td>8</td>\n",
       "      <td>PONTAL DE CAMBURI</td>\n",
       "      <td>False</td>\n",
       "      <td>False</td>\n",
       "      <td>False</td>\n",
       "      <td>False</td>\n",
       "      <td>False</td>\n",
       "      <td>False</td>\n",
       "      <td>No</td>\n",
       "    </tr>\n",
       "    <tr>\n",
       "      <th>4</th>\n",
       "      <td>F</td>\n",
       "      <td>2016-04-29 16:07:23+00:00</td>\n",
       "      <td>2016-04-29 00:00:00+00:00</td>\n",
       "      <td>56</td>\n",
       "      <td>JARDIM DA PENHA</td>\n",
       "      <td>False</td>\n",
       "      <td>True</td>\n",
       "      <td>True</td>\n",
       "      <td>False</td>\n",
       "      <td>False</td>\n",
       "      <td>False</td>\n",
       "      <td>No</td>\n",
       "    </tr>\n",
       "    <tr>\n",
       "      <th>...</th>\n",
       "      <td>...</td>\n",
       "      <td>...</td>\n",
       "      <td>...</td>\n",
       "      <td>...</td>\n",
       "      <td>...</td>\n",
       "      <td>...</td>\n",
       "      <td>...</td>\n",
       "      <td>...</td>\n",
       "      <td>...</td>\n",
       "      <td>...</td>\n",
       "      <td>...</td>\n",
       "      <td>...</td>\n",
       "    </tr>\n",
       "    <tr>\n",
       "      <th>110522</th>\n",
       "      <td>F</td>\n",
       "      <td>2016-05-03 09:15:35+00:00</td>\n",
       "      <td>2016-06-07 00:00:00+00:00</td>\n",
       "      <td>56</td>\n",
       "      <td>MARIA ORTIZ</td>\n",
       "      <td>False</td>\n",
       "      <td>False</td>\n",
       "      <td>False</td>\n",
       "      <td>False</td>\n",
       "      <td>False</td>\n",
       "      <td>True</td>\n",
       "      <td>No</td>\n",
       "    </tr>\n",
       "    <tr>\n",
       "      <th>110523</th>\n",
       "      <td>F</td>\n",
       "      <td>2016-05-03 07:27:33+00:00</td>\n",
       "      <td>2016-06-07 00:00:00+00:00</td>\n",
       "      <td>51</td>\n",
       "      <td>MARIA ORTIZ</td>\n",
       "      <td>False</td>\n",
       "      <td>False</td>\n",
       "      <td>False</td>\n",
       "      <td>False</td>\n",
       "      <td>False</td>\n",
       "      <td>True</td>\n",
       "      <td>No</td>\n",
       "    </tr>\n",
       "    <tr>\n",
       "      <th>110524</th>\n",
       "      <td>F</td>\n",
       "      <td>2016-04-27 16:03:52+00:00</td>\n",
       "      <td>2016-06-07 00:00:00+00:00</td>\n",
       "      <td>21</td>\n",
       "      <td>MARIA ORTIZ</td>\n",
       "      <td>False</td>\n",
       "      <td>False</td>\n",
       "      <td>False</td>\n",
       "      <td>False</td>\n",
       "      <td>False</td>\n",
       "      <td>True</td>\n",
       "      <td>No</td>\n",
       "    </tr>\n",
       "    <tr>\n",
       "      <th>110525</th>\n",
       "      <td>F</td>\n",
       "      <td>2016-04-27 15:09:23+00:00</td>\n",
       "      <td>2016-06-07 00:00:00+00:00</td>\n",
       "      <td>38</td>\n",
       "      <td>MARIA ORTIZ</td>\n",
       "      <td>False</td>\n",
       "      <td>False</td>\n",
       "      <td>False</td>\n",
       "      <td>False</td>\n",
       "      <td>False</td>\n",
       "      <td>True</td>\n",
       "      <td>No</td>\n",
       "    </tr>\n",
       "    <tr>\n",
       "      <th>110526</th>\n",
       "      <td>F</td>\n",
       "      <td>2016-04-27 13:30:56+00:00</td>\n",
       "      <td>2016-06-07 00:00:00+00:00</td>\n",
       "      <td>54</td>\n",
       "      <td>MARIA ORTIZ</td>\n",
       "      <td>False</td>\n",
       "      <td>False</td>\n",
       "      <td>False</td>\n",
       "      <td>False</td>\n",
       "      <td>False</td>\n",
       "      <td>True</td>\n",
       "      <td>No</td>\n",
       "    </tr>\n",
       "  </tbody>\n",
       "</table>\n",
       "<p>106987 rows × 12 columns</p>\n",
       "</div>"
      ],
      "text/plain": [
       "       gender             scheduleddate           appointmentdate  age  \\\n",
       "0           F 2016-04-29 18:38:08+00:00 2016-04-29 00:00:00+00:00   62   \n",
       "1           M 2016-04-29 16:08:27+00:00 2016-04-29 00:00:00+00:00   56   \n",
       "2           F 2016-04-29 16:19:04+00:00 2016-04-29 00:00:00+00:00   62   \n",
       "3           F 2016-04-29 17:29:31+00:00 2016-04-29 00:00:00+00:00    8   \n",
       "4           F 2016-04-29 16:07:23+00:00 2016-04-29 00:00:00+00:00   56   \n",
       "...       ...                       ...                       ...  ...   \n",
       "110522      F 2016-05-03 09:15:35+00:00 2016-06-07 00:00:00+00:00   56   \n",
       "110523      F 2016-05-03 07:27:33+00:00 2016-06-07 00:00:00+00:00   51   \n",
       "110524      F 2016-04-27 16:03:52+00:00 2016-06-07 00:00:00+00:00   21   \n",
       "110525      F 2016-04-27 15:09:23+00:00 2016-06-07 00:00:00+00:00   38   \n",
       "110526      F 2016-04-27 13:30:56+00:00 2016-06-07 00:00:00+00:00   54   \n",
       "\n",
       "            neighbourhood  scholarship  hypertension  diabetes  alcoholism  \\\n",
       "0         JARDIM DA PENHA        False          True     False       False   \n",
       "1         JARDIM DA PENHA        False         False     False       False   \n",
       "2           MATA DA PRAIA        False         False     False       False   \n",
       "3       PONTAL DE CAMBURI        False         False     False       False   \n",
       "4         JARDIM DA PENHA        False          True      True       False   \n",
       "...                   ...          ...           ...       ...         ...   \n",
       "110522        MARIA ORTIZ        False         False     False       False   \n",
       "110523        MARIA ORTIZ        False         False     False       False   \n",
       "110524        MARIA ORTIZ        False         False     False       False   \n",
       "110525        MARIA ORTIZ        False         False     False       False   \n",
       "110526        MARIA ORTIZ        False         False     False       False   \n",
       "\n",
       "        handicap  sms_received no_show  \n",
       "0          False         False      No  \n",
       "1          False         False      No  \n",
       "2          False         False      No  \n",
       "3          False         False      No  \n",
       "4          False         False      No  \n",
       "...          ...           ...     ...  \n",
       "110522     False          True      No  \n",
       "110523     False          True      No  \n",
       "110524     False          True      No  \n",
       "110525     False          True      No  \n",
       "110526     False          True      No  \n",
       "\n",
       "[106987 rows x 12 columns]"
      ]
     },
     "execution_count": 17,
     "metadata": {},
     "output_type": "execute_result"
    }
   ],
   "source": [
    "df_noshow ## patientid and appointmentid has been dropped"
   ]
  },
  {
   "cell_type": "code",
   "execution_count": 18,
   "id": "646dd8df",
   "metadata": {},
   "outputs": [
    {
     "data": {
      "text/plain": [
       "gender                  2\n",
       "scheduleddate      100307\n",
       "appointmentdate        27\n",
       "age                   102\n",
       "neighbourhood          81\n",
       "scholarship             2\n",
       "hypertension            2\n",
       "diabetes                2\n",
       "alcoholism              2\n",
       "handicap                2\n",
       "sms_received            2\n",
       "no_show                 2\n",
       "dtype: int64"
      ]
     },
     "execution_count": 18,
     "metadata": {},
     "output_type": "execute_result"
    }
   ],
   "source": [
    "df_noshow.nunique()"
   ]
  },
  {
   "cell_type": "markdown",
   "id": "5ab8b3d7",
   "metadata": {},
   "source": [
    "Before I proceed to EDA, I would like split up the 'scheduleddate' and 'appointmentdate' into Date, month, Weekday and evaluate the waiting day(where; waitingdays = appointmentday - scheduledday). \n",
    "\n",
    "___Logically appointmentdate should come after scheduleddate___"
   ]
  },
  {
   "cell_type": "code",
   "execution_count": 19,
   "id": "f2625a07",
   "metadata": {},
   "outputs": [],
   "source": [
    "# Get month and week of day information from dates\n",
    "df_noshow['appointmentweekday'] = pd.to_datetime(df_noshow.appointmentdate).dt.day_name()\n",
    "df_noshow['appointmentmonth'] = pd.to_datetime(df_noshow.appointmentdate).dt.month_name()"
   ]
  },
  {
   "cell_type": "code",
   "execution_count": 20,
   "id": "5fab6405",
   "metadata": {},
   "outputs": [],
   "source": [
    "df_noshow['scheduleddate'] = df_noshow['scheduleddate'].dt.date\n",
    "df_noshow['appointmentdate'] = df_noshow['appointmentdate'].dt.date"
   ]
  },
  {
   "cell_type": "code",
   "execution_count": 22,
   "id": "fdea66f2",
   "metadata": {},
   "outputs": [
    {
     "data": {
      "text/html": [
       "<div>\n",
       "<style scoped>\n",
       "    .dataframe tbody tr th:only-of-type {\n",
       "        vertical-align: middle;\n",
       "    }\n",
       "\n",
       "    .dataframe tbody tr th {\n",
       "        vertical-align: top;\n",
       "    }\n",
       "\n",
       "    .dataframe thead th {\n",
       "        text-align: right;\n",
       "    }\n",
       "</style>\n",
       "<table border=\"1\" class=\"dataframe\">\n",
       "  <thead>\n",
       "    <tr style=\"text-align: right;\">\n",
       "      <th></th>\n",
       "      <th>gender</th>\n",
       "      <th>scheduleddate</th>\n",
       "      <th>appointmentdate</th>\n",
       "      <th>age</th>\n",
       "      <th>neighbourhood</th>\n",
       "      <th>scholarship</th>\n",
       "      <th>hypertension</th>\n",
       "      <th>diabetes</th>\n",
       "      <th>alcoholism</th>\n",
       "      <th>handicap</th>\n",
       "      <th>sms_received</th>\n",
       "      <th>no_show</th>\n",
       "      <th>appointmentweekday</th>\n",
       "      <th>appointmentmonth</th>\n",
       "    </tr>\n",
       "  </thead>\n",
       "  <tbody>\n",
       "    <tr>\n",
       "      <th>0</th>\n",
       "      <td>F</td>\n",
       "      <td>2016-04-29</td>\n",
       "      <td>2016-04-29</td>\n",
       "      <td>62</td>\n",
       "      <td>JARDIM DA PENHA</td>\n",
       "      <td>False</td>\n",
       "      <td>True</td>\n",
       "      <td>False</td>\n",
       "      <td>False</td>\n",
       "      <td>False</td>\n",
       "      <td>False</td>\n",
       "      <td>No</td>\n",
       "      <td>Friday</td>\n",
       "      <td>April</td>\n",
       "    </tr>\n",
       "    <tr>\n",
       "      <th>1</th>\n",
       "      <td>M</td>\n",
       "      <td>2016-04-29</td>\n",
       "      <td>2016-04-29</td>\n",
       "      <td>56</td>\n",
       "      <td>JARDIM DA PENHA</td>\n",
       "      <td>False</td>\n",
       "      <td>False</td>\n",
       "      <td>False</td>\n",
       "      <td>False</td>\n",
       "      <td>False</td>\n",
       "      <td>False</td>\n",
       "      <td>No</td>\n",
       "      <td>Friday</td>\n",
       "      <td>April</td>\n",
       "    </tr>\n",
       "    <tr>\n",
       "      <th>2</th>\n",
       "      <td>F</td>\n",
       "      <td>2016-04-29</td>\n",
       "      <td>2016-04-29</td>\n",
       "      <td>62</td>\n",
       "      <td>MATA DA PRAIA</td>\n",
       "      <td>False</td>\n",
       "      <td>False</td>\n",
       "      <td>False</td>\n",
       "      <td>False</td>\n",
       "      <td>False</td>\n",
       "      <td>False</td>\n",
       "      <td>No</td>\n",
       "      <td>Friday</td>\n",
       "      <td>April</td>\n",
       "    </tr>\n",
       "    <tr>\n",
       "      <th>3</th>\n",
       "      <td>F</td>\n",
       "      <td>2016-04-29</td>\n",
       "      <td>2016-04-29</td>\n",
       "      <td>8</td>\n",
       "      <td>PONTAL DE CAMBURI</td>\n",
       "      <td>False</td>\n",
       "      <td>False</td>\n",
       "      <td>False</td>\n",
       "      <td>False</td>\n",
       "      <td>False</td>\n",
       "      <td>False</td>\n",
       "      <td>No</td>\n",
       "      <td>Friday</td>\n",
       "      <td>April</td>\n",
       "    </tr>\n",
       "    <tr>\n",
       "      <th>4</th>\n",
       "      <td>F</td>\n",
       "      <td>2016-04-29</td>\n",
       "      <td>2016-04-29</td>\n",
       "      <td>56</td>\n",
       "      <td>JARDIM DA PENHA</td>\n",
       "      <td>False</td>\n",
       "      <td>True</td>\n",
       "      <td>True</td>\n",
       "      <td>False</td>\n",
       "      <td>False</td>\n",
       "      <td>False</td>\n",
       "      <td>No</td>\n",
       "      <td>Friday</td>\n",
       "      <td>April</td>\n",
       "    </tr>\n",
       "  </tbody>\n",
       "</table>\n",
       "</div>"
      ],
      "text/plain": [
       "  gender scheduleddate appointmentdate  age      neighbourhood  scholarship  \\\n",
       "0      F    2016-04-29      2016-04-29   62    JARDIM DA PENHA        False   \n",
       "1      M    2016-04-29      2016-04-29   56    JARDIM DA PENHA        False   \n",
       "2      F    2016-04-29      2016-04-29   62      MATA DA PRAIA        False   \n",
       "3      F    2016-04-29      2016-04-29    8  PONTAL DE CAMBURI        False   \n",
       "4      F    2016-04-29      2016-04-29   56    JARDIM DA PENHA        False   \n",
       "\n",
       "   hypertension  diabetes  alcoholism  handicap  sms_received no_show  \\\n",
       "0          True     False       False     False         False      No   \n",
       "1         False     False       False     False         False      No   \n",
       "2         False     False       False     False         False      No   \n",
       "3         False     False       False     False         False      No   \n",
       "4          True      True       False     False         False      No   \n",
       "\n",
       "  appointmentweekday appointmentmonth  \n",
       "0             Friday            April  \n",
       "1             Friday            April  \n",
       "2             Friday            April  \n",
       "3             Friday            April  \n",
       "4             Friday            April  "
      ]
     },
     "execution_count": 22,
     "metadata": {},
     "output_type": "execute_result"
    }
   ],
   "source": [
    "df_noshow.head() ## Date & time column is cleaned to just date specific ***"
   ]
  },
  {
   "cell_type": "code",
   "execution_count": 23,
   "id": "3ed1fe12",
   "metadata": {},
   "outputs": [],
   "source": [
    "## waitingdays is the number of days between appointmentdate and scheduleddate *keep it in date format\n",
    "df_noshow['waitingdays'] = (df_noshow['appointmentdate'] - df_noshow['scheduleddate']).dt.days"
   ]
  },
  {
   "cell_type": "code",
   "execution_count": 24,
   "id": "1b91b7bd",
   "metadata": {},
   "outputs": [
    {
     "data": {
      "text/plain": [
       "count    106987.000000\n",
       "mean         10.166721\n",
       "std          15.263508\n",
       "min          -6.000000\n",
       "25%           0.000000\n",
       "50%           4.000000\n",
       "75%          14.000000\n",
       "max         179.000000\n",
       "Name: waitingdays, dtype: float64"
      ]
     },
     "execution_count": 24,
     "metadata": {},
     "output_type": "execute_result"
    }
   ],
   "source": [
    "## inspecting the waitingdays for any abnormalities\n",
    "\n",
    "df_noshow['waitingdays'].describe() \n",
    "\n",
    "## the waiting days shouldn't have a -ve value and the minimum value is -6"
   ]
  },
  {
   "cell_type": "code",
   "execution_count": 25,
   "id": "ed67f18e",
   "metadata": {},
   "outputs": [],
   "source": [
    "### eliminating waitingdays that have value less than zero by only considering only values >= 0\n",
    "\n",
    "df_noshow = df_noshow[df_noshow['waitingdays'] >= 0 ]"
   ]
  },
  {
   "cell_type": "code",
   "execution_count": 26,
   "id": "4c834f2e",
   "metadata": {},
   "outputs": [
    {
     "data": {
      "text/plain": [
       "count    106982.000000\n",
       "mean         10.167290\n",
       "std          15.263631\n",
       "min           0.000000\n",
       "25%           0.000000\n",
       "50%           4.000000\n",
       "75%          14.000000\n",
       "max         179.000000\n",
       "Name: waitingdays, dtype: float64"
      ]
     },
     "execution_count": 26,
     "metadata": {},
     "output_type": "execute_result"
    }
   ],
   "source": [
    "df_noshow['waitingdays'].describe() ## no more negative values in waiting days column"
   ]
  },
  {
   "cell_type": "code",
   "execution_count": 27,
   "id": "efb90df8",
   "metadata": {},
   "outputs": [
    {
     "name": "stdout",
     "output_type": "stream",
     "text": [
      "<class 'pandas.core.frame.DataFrame'>\n",
      "Int64Index: 106982 entries, 0 to 110526\n",
      "Data columns (total 15 columns):\n",
      " #   Column              Non-Null Count   Dtype \n",
      "---  ------              --------------   ----- \n",
      " 0   gender              106982 non-null  object\n",
      " 1   scheduleddate       106982 non-null  object\n",
      " 2   appointmentdate     106982 non-null  object\n",
      " 3   age                 106982 non-null  int64 \n",
      " 4   neighbourhood       106982 non-null  object\n",
      " 5   scholarship         106982 non-null  bool  \n",
      " 6   hypertension        106982 non-null  bool  \n",
      " 7   diabetes            106982 non-null  bool  \n",
      " 8   alcoholism          106982 non-null  bool  \n",
      " 9   handicap            106982 non-null  bool  \n",
      " 10  sms_received        106982 non-null  bool  \n",
      " 11  no_show             106982 non-null  object\n",
      " 12  appointmentweekday  106982 non-null  object\n",
      " 13  appointmentmonth    106982 non-null  object\n",
      " 14  waitingdays         106982 non-null  int64 \n",
      "dtypes: bool(6), int64(2), object(7)\n",
      "memory usage: 8.8+ MB\n"
     ]
    }
   ],
   "source": [
    "df_noshow.info()"
   ]
  },
  {
   "cell_type": "code",
   "execution_count": 28,
   "id": "2f0270fc",
   "metadata": {},
   "outputs": [
    {
     "data": {
      "text/plain": [
       "count     106982\n",
       "unique         2\n",
       "top           No\n",
       "freq       85307\n",
       "Name: no_show, dtype: object"
      ]
     },
     "execution_count": 28,
     "metadata": {},
     "output_type": "execute_result"
    }
   ],
   "source": [
    "df_noshow['no_show'].describe()"
   ]
  },
  {
   "cell_type": "code",
   "execution_count": 29,
   "id": "f4369c78",
   "metadata": {},
   "outputs": [
    {
     "name": "stderr",
     "output_type": "stream",
     "text": [
      "C:\\Users\\DELL\\anaconda3\\lib\\site-packages\\pandas\\core\\series.py:4509: SettingWithCopyWarning: \n",
      "A value is trying to be set on a copy of a slice from a DataFrame\n",
      "\n",
      "See the caveats in the documentation: https://pandas.pydata.org/pandas-docs/stable/user_guide/indexing.html#returning-a-view-versus-a-copy\n",
      "  return super().replace(\n"
     ]
    }
   ],
   "source": [
    "df_noshow['no_show'].replace(['Yes', 'No'], [1,0],inplace=True)"
   ]
  },
  {
   "cell_type": "markdown",
   "id": "f3ddc113",
   "metadata": {},
   "source": [
    "<a id='eda'></a>\n",
    "## Exploratory Data Analysis and Visualization."
   ]
  },
  {
   "cell_type": "code",
   "execution_count": 30,
   "id": "1cc40632",
   "metadata": {},
   "outputs": [
    {
     "data": {
      "image/png": "[encoded data removed]",
      "text/plain": [
       "<Figure size 1152x576 with 2 Axes>"
      ]
     },
     "metadata": {
      "needs_background": "light"
     },
     "output_type": "display_data"
    }
   ],
   "source": [
    "## looking for correlation among variables relative to 'no_show' using heatmap.\n",
    "\n",
    "plt.figure(figsize=(16,8))\n",
    "sns.heatmap(df_noshow.corr(), annot=True,linewidth=4, cmap= 'Accent')\n",
    "plt.title('Correlation between the dataset', fontsize=20)\n",
    "plt.show()"
   ]
  },
  {
   "cell_type": "markdown",
   "id": "df845aee",
   "metadata": {},
   "source": [
    "The heatmap shows that there is a strong correlation between 'waitingdays and no_show', 'sms_received and no_show', a slight correlation between 'scholarship and no-show' and how diabetes and hypertension correlate with patient not showing up for appointment. \n",
    "\n",
    "This heatmap will help me streamline my exploration by digging deeper into how waitingdays, sms reminder, scholarship, diabetes and hypertension affect how patience show up for appointment.\n",
    "\n",
    "I will also look into other factors that heatmap cannot correlate because of the datatype attributed to the column such as gender."
   ]
  },
  {
   "cell_type": "code",
   "execution_count": 31,
   "id": "93df10d2",
   "metadata": {},
   "outputs": [
    {
     "data": {
      "text/plain": [
       "Text(0, 0.5, 'No of patients')"
      ]
     },
     "execution_count": 31,
     "metadata": {},
     "output_type": "execute_result"
    },
    {
     "data": {
      "image/png": "[encoded data removed]",
      "text/plain": [
       "<Figure size 360x360 with 1 Axes>"
      ]
     },
     "metadata": {
      "needs_background": "light"
     },
     "output_type": "display_data"
    }
   ],
   "source": [
    "## it is important to check for the overall count of patient that show up\n",
    "\n",
    "plt.figure(figsize=(5,5))\n",
    "sns.countplot(x = \"no_show\", data = df_noshow, palette = 'seismic')\n",
    "plt.title(\"Patient's Appointment count\")\n",
    "plt.xlabel(\"Missed Appointment\")\n",
    "plt.ylabel(\"No of patients\")\n",
    "\n",
    "\n"
   ]
  },
  {
   "cell_type": "code",
   "execution_count": 32,
   "id": "f4a2105b",
   "metadata": {},
   "outputs": [
    {
     "data": {
      "text/plain": [
       "21675"
      ]
     },
     "execution_count": 32,
     "metadata": {},
     "output_type": "execute_result"
    }
   ],
   "source": [
    "## count number of Patients data didn't showed up\n",
    "no_show_up = df_noshow[df_noshow[\"no_show\"]==1].count()[\"no_show\"] \n",
    "\n",
    "no_show_up"
   ]
  },
  {
   "cell_type": "code",
   "execution_count": 33,
   "id": "14f126fb",
   "metadata": {},
   "outputs": [
    {
     "data": {
      "text/plain": [
       "85307"
      ]
     },
     "execution_count": 33,
     "metadata": {},
     "output_type": "execute_result"
    }
   ],
   "source": [
    "## count total number of Patients that showed up\n",
    "show_up =  df_noshow[df_noshow[\"no_show\"]==0].count()[\"no_show\"]\n",
    "show_up"
   ]
  },
  {
   "cell_type": "code",
   "execution_count": 72,
   "id": "4d796dc1",
   "metadata": {},
   "outputs": [
    {
     "data": {
      "text/plain": [
       "Text(0.5, 1.5, \"Percentage of patients who show up and didn't show up for appointment\")"
      ]
     },
     "execution_count": 72,
     "metadata": {},
     "output_type": "execute_result"
    },
    {
     "data": {
      "image/png": "[encoded data removed]",
      "text/plain": [
       "<Figure size 432x288 with 1 Axes>"
      ]
     },
     "metadata": {},
     "output_type": "display_data"
    }
   ],
   "source": [
    "## A pie chart that shows percentage of patients that showed up and don't show up for appointment\n",
    "\n",
    "data = [no_show_up,show_up]\n",
    "label1 = [\"no show up\",\"Show up\"]\n",
    "colors = ['#4F6272', '#B7C3F3']\n",
    "plt.axis('equal')\n",
    "explode = [-0.08, 0.15]\n",
    "plt.pie(data,labels=label1,radius= 2.3,shadow=True,explode=explode,colors = colors, autopct='%1f%%',startangle=90,textprops = {\"fontsize\":10, \"color\" :'Black'})\n",
    "plt.title(\"Percentage of patients who show up and didn't show up for appointment\",y=1.5, fontsize = 30) "
   ]
  },
  {
   "cell_type": "markdown",
   "id": "5bf160e0",
   "metadata": {},
   "source": [
    "Overall 79.7% patient show up for there appointment and 20.3% didn't show up for appointment."
   ]
  },
  {
   "cell_type": "code",
   "execution_count": 61,
   "id": "becb56d1",
   "metadata": {},
   "outputs": [
    {
     "data": {
      "image/png": "[encoded data removed]",
      "text/plain": [
       "<Figure size 2700x1440 with 4 Axes>"
      ]
     },
     "metadata": {
      "needs_background": "light"
     },
     "output_type": "display_data"
    }
   ],
   "source": [
    "## further visualization on scholarship, hypertension, diabetes\n",
    "\n",
    "def get_bar_chart(df_noshow):\n",
    "    column = ['sms_received','scholarship','hypertension', 'diabetes']\n",
    "    list(enumerate(column))\n",
    "    plt.figure(figsize=(37.5,20))\n",
    "    for i in enumerate(column):\n",
    "        plt.subplot(2, 3, i[0]+1)\n",
    "        sns.countplot(x=i[1], hue= 'no_show' ,data=df_noshow, palette = 'seismic')\n",
    "    plt.suptitle('Plots of sms received, scholarship, hypertension, diabetes against no show', fontsize = 60, horizontalalignment = 'center')\n",
    "    plt.show()\n",
    "    \n",
    "get_bar_chart(df_noshow) \n"
   ]
  },
  {
   "cell_type": "markdown",
   "id": "78e6af45",
   "metadata": {},
   "source": [
    "__Question 1\n",
    "\n",
    "How does SMS reminder affect the turn up of patient for there appointment?"
   ]
  },
  {
   "cell_type": "code",
   "execution_count": 63,
   "id": "fbc5edb9",
   "metadata": {},
   "outputs": [
    {
     "data": {
      "text/plain": [
       "34585"
      ]
     },
     "execution_count": 63,
     "metadata": {},
     "output_type": "execute_result"
    }
   ],
   "source": [
    "## count of patients that received sms\n",
    "sms_yes = df_noshow[df_noshow[\"sms_received\"]==1].count()[\"sms_received\"]\n",
    "\n",
    "sms_yes"
   ]
  },
  {
   "cell_type": "code",
   "execution_count": 64,
   "id": "ee65a375",
   "metadata": {},
   "outputs": [
    {
     "data": {
      "text/plain": [
       "72397"
      ]
     },
     "execution_count": 64,
     "metadata": {},
     "output_type": "execute_result"
    }
   ],
   "source": [
    "## count of patients that didn't receive sms\n",
    "sms_no = df_noshow[df_noshow[\"sms_received\"]==0].count()[\"sms_received\"] \n",
    "\n",
    "sms_no"
   ]
  },
  {
   "cell_type": "code",
   "execution_count": 68,
   "id": "197141b0",
   "metadata": {},
   "outputs": [
    {
     "data": {
      "text/plain": [
       "<function matplotlib.pyplot.show(close=None, block=None)>"
      ]
     },
     "execution_count": 68,
     "metadata": {},
     "output_type": "execute_result"
    },
    {
     "data": {
      "image/png": "[encoded data removed]",
      "text/plain": [
       "<Figure size 432x288 with 1 Axes>"
      ]
     },
     "metadata": {},
     "output_type": "display_data"
    }
   ],
   "source": [
    "## piechart showing the % of sms received\n",
    "data2 = [sms_yes,sms_no]\n",
    "label1 = [\"Received SMS\",\"No SMS Received\"]\n",
    "colors = ['#D98E0B', '#F4D40B']\n",
    "plt.axis('equal')\n",
    "explode = [-0.08, 0.15]\n",
    "plt.pie(data,labels=label1,radius= 1.8,shadow=True,explode=explode,colors = colors, autopct='%1f%%',startangle=90,textprops = {\"fontsize\":15})\n",
    "plt.title('% OF PATIENTS THAT RECEIVED SMS',y=1.3, fontsize = 30)\n",
    "plt.show"
   ]
  },
  {
   "cell_type": "markdown",
   "id": "d1052e9c",
   "metadata": {},
   "source": [
    "The % of patient that received sms atleast once is 20.3%\n",
    "\n",
    "The % of patient that didn't received sms is 79.7%\n",
    "\n",
    "\n",
    "\n",
    "To further understand how each sms categories affect patients showing up"
   ]
  },
  {
   "cell_type": "code",
   "execution_count": 77,
   "id": "c3e5268b",
   "metadata": {},
   "outputs": [
    {
     "name": "stdout",
     "output_type": "stream",
     "text": [
      "gender                object\n",
      "scheduleddate         object\n",
      "appointmentdate       object\n",
      "age                    int64\n",
      "neighbourhood         object\n",
      "scholarship             bool\n",
      "hypertension            bool\n",
      "diabetes                bool\n",
      "alcoholism              bool\n",
      "handicap                bool\n",
      "sms_received           int32\n",
      "no_show                int64\n",
      "appointmentweekday    object\n",
      "appointmentmonth      object\n",
      "waitingdays            int64\n",
      "dtype: object\n"
     ]
    }
   ],
   "source": [
    "## for the purpose of this chart I will convert sms_received to int datatype\n",
    "df_noshow = df_noshow.astype({'sms_received':'int'})\n",
    "print(df_noshow.dtypes)"
   ]
  },
  {
   "cell_type": "code",
   "execution_count": 85,
   "id": "3793a89b",
   "metadata": {},
   "outputs": [
    {
     "data": {
      "image/png": "[encoded data removed]",
      "text/plain": [
       "<Figure size 432x288 with 1 Axes>"
      ]
     },
     "metadata": {
      "needs_background": "light"
     },
     "output_type": "display_data"
    }
   ],
   "source": [
    "## the chart is showing how each category of sms_received show up for appointment\n",
    "\n",
    "sms_show = sns.countplot(x=df_noshow.no_show, hue=df_noshow.sms_received, data=df_noshow)\n",
    "sms_show.set_title(\"\", size='20')\n",
    "plt.title(\"Count of SMS received and don't receive against showing up\",y=1.1, fontsize = 30, horizontalalignment = 'center')\n",
    "plt.show()"
   ]
  },
  {
   "cell_type": "markdown",
   "id": "bc79abc5",
   "metadata": {},
   "source": [
    "This chart shows that the sms reminder is positively correlated with 'not showing up'. The % of people who show up and didn't receive sms reminder are more than the % people who received sms and show up."
   ]
  },
  {
   "cell_type": "markdown",
   "id": "0538a9ce",
   "metadata": {},
   "source": [
    "__Question 2:\n",
    "\n",
    "How does gender affect showing up for appointment?"
   ]
  },
  {
   "cell_type": "code",
   "execution_count": 250,
   "id": "7e7f9fc5",
   "metadata": {},
   "outputs": [
    {
     "data": {
      "text/plain": [
       "gender\n",
       "F    70115\n",
       "M    36867\n",
       "Name: no_show, dtype: int64"
      ]
     },
     "execution_count": 250,
     "metadata": {},
     "output_type": "execute_result"
    }
   ],
   "source": [
    "## gender count\n",
    "gender_count = df_noshow.groupby('gender').count()['no_show']\n",
    "gender_count"
   ]
  },
  {
   "cell_type": "code",
   "execution_count": 253,
   "id": "27d1b219",
   "metadata": {},
   "outputs": [
    {
     "data": {
      "text/plain": [
       "gender  no_show\n",
       "F       0          55843\n",
       "M       0          29464\n",
       "F       1          14272\n",
       "M       1           7403\n",
       "dtype: int64"
      ]
     },
     "execution_count": 253,
     "metadata": {},
     "output_type": "execute_result"
    }
   ],
   "source": [
    "## the count of male and female for showin g up and not\n",
    "gender_show = df_noshow[['gender','no_show']].value_counts()\n",
    "\n",
    "gender_show"
   ]
  },
  {
   "cell_type": "code",
   "execution_count": 269,
   "id": "35eb5523",
   "metadata": {},
   "outputs": [
    {
     "data": {
      "image/png": "[encoded data removed]",
      "text/plain": [
       "<Figure size 432x288 with 1 Axes>"
      ]
     },
     "metadata": {},
     "output_type": "display_data"
    }
   ],
   "source": [
    "## a piechart that illustrate the % ratio of female(F) that show up and not\n",
    "\n",
    "female_ratio = (gender_show['F']/gender_count['F'])*100 # this to calculate with precenatage female that showed up and dont.\n",
    "label2 = ['Female showed up ', \"Female didn't show up\"]\n",
    "colors = ['#600c85', '#cea3e4']\n",
    "plt.axis('equal')\n",
    "explode = [-0.08, 0.15]\n",
    "plt.pie(female_ratio, radius=1.8, shadow=True ,labels = label2, explode=explode,colors = colors ,startangle=90,\n",
    "        autopct='%0.2f%%',textprops = {\"fontsize\":15, \"fontname\":\"Bodoni Ornaments\"})\n",
    "plt.title(\"Ratio of female who showed up and who didn't show up \",fontsize=20, y=1.4, fontname=' Arial Black') \n",
    "plt.show()\n"
   ]
  },
  {
   "cell_type": "code",
   "execution_count": 271,
   "id": "74e50366",
   "metadata": {},
   "outputs": [
    {
     "name": "stderr",
     "output_type": "stream",
     "text": [
      "findfont: Font family ['Arial Black'] not found. Falling back to DejaVu Sans.\n"
     ]
    },
    {
     "data": {
      "image/png": "[encoded data removed]",
      "text/plain": [
       "<Figure size 432x288 with 1 Axes>"
      ]
     },
     "metadata": {},
     "output_type": "display_data"
    }
   ],
   "source": [
    "## a piechart that illustrate the % ratio of male(M) that show up and not\n",
    "\n",
    "male_ratio = (gender_show['M']/gender_count['M'])*100 # this to calculate with pecenatage male that showed up and dont.\n",
    "label2 = ['male showed up ', \"male didn't show up\"]\n",
    "colors = ['#142c66', '#4985ca']\n",
    "plt.axis('equal')\n",
    "explode = [-0.08, 0.15]\n",
    "plt.pie(male_ratio, radius=1.8, shadow=True ,labels = label2, explode=explode,colors = colors ,startangle=90,\n",
    "        autopct='%0.2f%%',textprops = {\"fontsize\":15, \"fontname\":\"Bodoni Ornaments\"})\n",
    "plt.title(\"Ratio of male who showed up and who didn't show up \",fontsize=20, y=1.4, fontname= 'Arial Black') \n",
    "plt.show()"
   ]
  },
  {
   "cell_type": "markdown",
   "id": "b6ebfc40",
   "metadata": {},
   "source": [
    "\n",
    "the gender by itself doesn't have an effect on whether a patient will show up or not as they both share the same 'no show' ratio which is close in value with the total 'show up' % of all patience."
   ]
  },
  {
   "cell_type": "markdown",
   "id": "30304d86",
   "metadata": {},
   "source": [
    "<a id='conclusions'></a>\n",
    "## Conclusions"
   ]
  },
  {
   "cell_type": "markdown",
   "id": "6b987387",
   "metadata": {},
   "source": [
    ". The observation with SMS reminder is that, it didn't affect the rate of showing up for patients as the rate of showing up reduces with sms reminder."
   ]
  },
  {
   "cell_type": "markdown",
   "id": "cb91e8ff",
   "metadata": {},
   "source": [
    ". scholarship is also a major factor in this dataset, the scholarship doesn't guarantee a patient will show up."
   ]
  },
  {
   "cell_type": "markdown",
   "id": "159e07e3",
   "metadata": {},
   "source": [
    ". The gender of patients does not have any effect on whether the patient will show up. Each gender shares the same show up distribution with the total percentage."
   ]
  },
  {
   "cell_type": "markdown",
   "id": "a6cd6eed",
   "metadata": {},
   "source": [
    "# Limitation"
   ]
  },
  {
   "cell_type": "markdown",
   "id": "0eb15a44",
   "metadata": {},
   "source": [
    ". All anaysis conclusion are based on the data collected from kaggle.\n",
    "\n",
    ". Data were only collected from patient in Brazil and outcome could differ in other countries.\n",
    "\n",
    ". Only data from 81 Hospitals in brazil was used.\n",
    "\n",
    ". The Result of the analysis tentative since the data used are limited."
   ]
  },
  {
   "cell_type": "code",
   "execution_count": null,
   "id": "f6fcd016",
   "metadata": {},
   "outputs": [],
   "source": []
  }
 ],
 "metadata": {
  "kernelspec": {
   "display_name": "Python 3 (ipykernel)",
   "language": "python",
   "name": "python3"
  },
  "language_info": {
   "codemirror_mode": {
    "name": "ipython",
    "version": 3
   },
   "file_extension": ".py",
   "mimetype": "text/x-python",
   "name": "python",
   "nbconvert_exporter": "python",
   "pygments_lexer": "ipython3",
   "version": "3.9.13"
  }
 },
 "nbformat": 4,
 "nbformat_minor": 5
}
